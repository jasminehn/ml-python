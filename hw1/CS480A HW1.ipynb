{
 "cells": [
  {
   "cell_type": "code",
   "execution_count": 1,
   "metadata": {},
   "outputs": [],
   "source": [
    "# Question 1"
   ]
  },
  {
   "cell_type": "code",
   "execution_count": 2,
   "metadata": {},
   "outputs": [],
   "source": [
    "#Load the iris dataset \n",
    "from sklearn.datasets import load_iris\n",
    "iris = load_iris()"
   ]
  },
  {
   "cell_type": "code",
   "execution_count": 3,
   "metadata": {},
   "outputs": [],
   "source": [
    "from sklearn.model_selection import train_test_split #import the train_test_split command from sklearn.model_selection"
   ]
  },
  {
   "cell_type": "code",
   "execution_count": 4,
   "metadata": {},
   "outputs": [],
   "source": [
    "#Create X_train, y_train, X_test, y_test using the standard train_test_split operation\n",
    "X_train, X_test, y_train, y_test = train_test_split(iris['data'], iris['target'], random_state=0) "
   ]
  },
  {
   "cell_type": "code",
   "execution_count": 5,
   "metadata": {},
   "outputs": [
    {
     "data": {
      "text/plain": [
       "(112, 4)"
      ]
     },
     "execution_count": 5,
     "metadata": {},
     "output_type": "execute_result"
    }
   ],
   "source": [
    "X_train.shape #Print the shapes of each of these variables (X_train)"
   ]
  },
  {
   "cell_type": "code",
   "execution_count": 6,
   "metadata": {},
   "outputs": [
    {
     "data": {
      "text/plain": [
       "(38, 4)"
      ]
     },
     "execution_count": 6,
     "metadata": {},
     "output_type": "execute_result"
    }
   ],
   "source": [
    "X_test.shape #Print the shapes of each of these variables (X_test)"
   ]
  },
  {
   "cell_type": "code",
   "execution_count": 7,
   "metadata": {},
   "outputs": [
    {
     "data": {
      "text/plain": [
       "(112,)"
      ]
     },
     "execution_count": 7,
     "metadata": {},
     "output_type": "execute_result"
    }
   ],
   "source": [
    "y_train.shape #Print the shapes of each of these variables (y_train)"
   ]
  },
  {
   "cell_type": "code",
   "execution_count": 8,
   "metadata": {},
   "outputs": [
    {
     "data": {
      "text/plain": [
       "(38,)"
      ]
     },
     "execution_count": 8,
     "metadata": {},
     "output_type": "execute_result"
    }
   ],
   "source": [
    "y_test.shape #Print the shapes of each of these variables (y_test)"
   ]
  },
  {
   "cell_type": "code",
   "execution_count": 9,
   "metadata": {},
   "outputs": [],
   "source": [
    "# Question 2"
   ]
  },
  {
   "cell_type": "code",
   "execution_count": 10,
   "metadata": {},
   "outputs": [
    {
     "data": {
      "text/plain": [
       "0.9736842105263158"
      ]
     },
     "execution_count": 10,
     "metadata": {},
     "output_type": "execute_result"
    }
   ],
   "source": [
    "from sklearn.neighbors import KNeighborsClassifier\n",
    "knn=KNeighborsClassifier(n_neighbors=1) #Create a nearest neighbor classifier with a neighborhood size of 1 \n",
    "knn.fit(X_train, y_train) #Use the fit command on the training data to prepare the classifier \n",
    "knn.score(X_test, y_test) #print the score (using .score) the classifier using X_test and y_test"
   ]
  },
  {
   "cell_type": "code",
   "execution_count": 11,
   "metadata": {},
   "outputs": [],
   "source": [
    "# Question 3"
   ]
  },
  {
   "cell_type": "code",
   "execution_count": 12,
   "metadata": {},
   "outputs": [
    {
     "data": {
      "text/plain": [
       "0.8666666666666667"
      ]
     },
     "execution_count": 12,
     "metadata": {},
     "output_type": "execute_result"
    }
   ],
   "source": [
    "#Repeat the process for different ratios of the sizes of the training and test sets: 1/10\n",
    "X_train, X_test, y_train, y_test = train_test_split(iris['data'], iris['target'], test_size=0.1, random_state=11)\n",
    "knn=KNeighborsClassifier(n_neighbors=1)\n",
    "knn.fit(X_train, y_train) \n",
    "knn.score(X_test, y_test) "
   ]
  },
  {
   "cell_type": "code",
   "execution_count": 13,
   "metadata": {},
   "outputs": [
    {
     "data": {
      "text/plain": [
       "0.94"
      ]
     },
     "execution_count": 13,
     "metadata": {},
     "output_type": "execute_result"
    }
   ],
   "source": [
    "#Repeat the process for different ratios of the sizes of the training and test sets: 1/3\n",
    "X_train, X_test, y_train, y_test = train_test_split(iris['data'], iris['target'], test_size=0.3333, random_state=11)\n",
    "knn=KNeighborsClassifier(n_neighbors=1)\n",
    "knn.fit(X_train, y_train) \n",
    "knn.score(X_test, y_test) "
   ]
  },
  {
   "cell_type": "code",
   "execution_count": 14,
   "metadata": {},
   "outputs": [
    {
     "data": {
      "text/plain": [
       "0.9333333333333333"
      ]
     },
     "execution_count": 14,
     "metadata": {},
     "output_type": "execute_result"
    }
   ],
   "source": [
    "#Repeat the process for different ratios of the sizes of the training and test sets: 1/2\n",
    "X_train, X_test, y_train, y_test = train_test_split(iris['data'], iris['target'], test_size=0.5, random_state=11)\n",
    "knn=KNeighborsClassifier(n_neighbors=1)\n",
    "knn.fit(X_train, y_train) \n",
    "knn.score(X_test, y_test) "
   ]
  },
  {
   "cell_type": "code",
   "execution_count": 15,
   "metadata": {},
   "outputs": [
    {
     "data": {
      "text/plain": [
       "0.95"
      ]
     },
     "execution_count": 15,
     "metadata": {},
     "output_type": "execute_result"
    }
   ],
   "source": [
    "#Repeat the process for different ratios of the sizes of the training and test sets: 2/3\n",
    "X_train, X_test, y_train, y_test = train_test_split(iris['data'], iris['target'], test_size=0.6666, random_state=11)\n",
    "knn=KNeighborsClassifier(n_neighbors=1)\n",
    "knn.fit(X_train, y_train) \n",
    "knn.score(X_test, y_test) "
   ]
  },
  {
   "cell_type": "code",
   "execution_count": 16,
   "metadata": {},
   "outputs": [
    {
     "data": {
      "text/plain": [
       "0.9734513274336283"
      ]
     },
     "execution_count": 16,
     "metadata": {},
     "output_type": "execute_result"
    }
   ],
   "source": [
    "#Repeat the process for different ratios of the sizes of the training and test sets: 3/4\n",
    "X_train, X_test, y_train, y_test = train_test_split(iris['data'], iris['target'], test_size=0.75, random_state=11)\n",
    "knn=KNeighborsClassifier(n_neighbors=1)\n",
    "knn.fit(X_train, y_train) \n",
    "knn.score(X_test, y_test) "
   ]
  },
  {
   "cell_type": "code",
   "execution_count": 17,
   "metadata": {},
   "outputs": [
    {
     "data": {
      "text/plain": [
       "0.9111111111111111"
      ]
     },
     "execution_count": 17,
     "metadata": {},
     "output_type": "execute_result"
    }
   ],
   "source": [
    "#Repeat the process for different ratios of the sizes of the training and test sets: 9/10\n",
    "X_train, X_test, y_train, y_test = train_test_split(iris['data'], iris['target'], test_size=0.9, random_state=11)\n",
    "knn=KNeighborsClassifier(n_neighbors=1)\n",
    "knn.fit(X_train, y_train) \n",
    "knn.score(X_test, y_test) "
   ]
  },
  {
   "cell_type": "code",
   "execution_count": 18,
   "metadata": {},
   "outputs": [
    {
     "data": {
      "text/plain": [
       "0.3288590604026846"
      ]
     },
     "execution_count": 18,
     "metadata": {},
     "output_type": "execute_result"
    }
   ],
   "source": [
    "#Repeat the process for different ratios of the sizes of the training and test sets: 99/100\n",
    "X_train, X_test, y_train, y_test = train_test_split(iris['data'], iris['target'], test_size=0.99, random_state=11)\n",
    "knn=KNeighborsClassifier(n_neighbors=1)\n",
    "knn.fit(X_train, y_train) \n",
    "knn.score(X_test, y_test) "
   ]
  },
  {
   "cell_type": "code",
   "execution_count": 19,
   "metadata": {},
   "outputs": [],
   "source": [
    "#Plot the scores\n",
    "import matplotlib\n",
    "import matplotlib.pyplot as plt\n",
    "import numpy as np"
   ]
  },
  {
   "cell_type": "code",
   "execution_count": 20,
   "metadata": {},
   "outputs": [
    {
     "name": "stdout",
     "output_type": "stream",
     "text": [
      "x: [0.1, 0.25, 0.333, 0.5, 0.6666, 0.75, 0.9, 0.99]\n",
      "y: [0.9736842105263158, 0.8666666666666667, 0.94, 0.9333333333333333, 0.95, 0.9734513274336283, 0.9111111111111111, 0.3288590604026846]\n"
     ]
    }
   ],
   "source": [
    "x=[.1,.25, .333,.5,.6666,.75,.9,.99]\n",
    "y=[0.9736842105263158, 0.8666666666666667, 0.94, 0.9333333333333333, 0.95, 0.9734513274336283, 0.9111111111111111, 0.3288590604026846]\n",
    "print(\"x:\",x)\n",
    "print(\"y:\",y)"
   ]
  },
  {
   "cell_type": "code",
   "execution_count": 21,
   "metadata": {},
   "outputs": [
    {
     "data": {
      "text/plain": [
       "<matplotlib.collections.PathCollection at 0x24bd74df608>"
      ]
     },
     "execution_count": 21,
     "metadata": {},
     "output_type": "execute_result"
    },
    {
     "data": {
      "image/png": "[encoded data removed]",
      "text/plain": [
       "<Figure size 432x288 with 1 Axes>"
      ]
     },
     "metadata": {
      "needs_background": "light"
     },
     "output_type": "display_data"
    }
   ],
   "source": [
    "plt.figure(1)\n",
    "plt.scatter(x,y)"
   ]
  },
  {
   "cell_type": "code",
   "execution_count": 22,
   "metadata": {},
   "outputs": [],
   "source": [
    "#write 1-2 paragraphs giving your interpretation of the data\n",
    "# In the plot, you can see that when the test size is as close to 1 as possible (0.99), the accuracy score\n",
    "# goes down significantly. Training and testing on the same data is not an optimal approach, so we do split \n",
    "# the data into two pieces, training set and testing set. Since we are training and testing on different \n",
    "# sets of data, the resulting testing accuracy will be a better estimate of how well the model is likely to \n",
    "# perform on unseen data. However, when we are using most of the data for [training] TESTING, that leaves very little of\n",
    "# it for [testing] TRAINING, which is likely why the accuracy is so low. "
   ]
  },
  {
   "cell_type": "code",
   "execution_count": 23,
   "metadata": {},
   "outputs": [],
   "source": [
    "# Question 4"
   ]
  },
  {
   "cell_type": "code",
   "execution_count": 24,
   "metadata": {},
   "outputs": [
    {
     "data": {
      "text/plain": [
       "0.9736842105263158"
      ]
     },
     "execution_count": 24,
     "metadata": {},
     "output_type": "execute_result"
    }
   ],
   "source": [
    "#keep the ratio of the testing size to be the default of 25% and instead create classifiers with different sized neighborhoods\n",
    "X_train, X_test, y_train, y_test = train_test_split(iris['data'], iris['target'], random_state=0)\n",
    "knn2=KNeighborsClassifier(n_neighbors=2)\n",
    "knn2.fit(X_train, y_train) \n",
    "knn2.score(X_test, y_test) "
   ]
  },
  {
   "cell_type": "code",
   "execution_count": 25,
   "metadata": {},
   "outputs": [
    {
     "data": {
      "text/plain": [
       "0.9736842105263158"
      ]
     },
     "execution_count": 25,
     "metadata": {},
     "output_type": "execute_result"
    }
   ],
   "source": [
    "knn3=KNeighborsClassifier(n_neighbors=3)\n",
    "knn3.fit(X_train, y_train) \n",
    "knn3.score(X_test, y_test) "
   ]
  },
  {
   "cell_type": "code",
   "execution_count": 26,
   "metadata": {},
   "outputs": [
    {
     "data": {
      "text/plain": [
       "0.9736842105263158"
      ]
     },
     "execution_count": 26,
     "metadata": {},
     "output_type": "execute_result"
    }
   ],
   "source": [
    "knn4=KNeighborsClassifier(n_neighbors=4)\n",
    "knn4.fit(X_train, y_train) \n",
    "knn4.score(X_test, y_test) "
   ]
  },
  {
   "cell_type": "code",
   "execution_count": 27,
   "metadata": {},
   "outputs": [
    {
     "data": {
      "text/plain": [
       "0.9736842105263158"
      ]
     },
     "execution_count": 27,
     "metadata": {},
     "output_type": "execute_result"
    }
   ],
   "source": [
    "knn5=KNeighborsClassifier(n_neighbors=5)\n",
    "knn5.fit(X_train, y_train) \n",
    "knn5.score(X_test, y_test) "
   ]
  },
  {
   "cell_type": "code",
   "execution_count": 28,
   "metadata": {},
   "outputs": [
    {
     "data": {
      "text/plain": [
       "0.9736842105263158"
      ]
     },
     "execution_count": 28,
     "metadata": {},
     "output_type": "execute_result"
    }
   ],
   "source": [
    "knn10=KNeighborsClassifier(n_neighbors=10)\n",
    "knn10.fit(X_train, y_train) \n",
    "knn10.score(X_test, y_test) "
   ]
  },
  {
   "cell_type": "code",
   "execution_count": 29,
   "metadata": {},
   "outputs": [
    {
     "data": {
      "text/plain": [
       "0.9736842105263158"
      ]
     },
     "execution_count": 29,
     "metadata": {},
     "output_type": "execute_result"
    }
   ],
   "source": [
    "knn20=KNeighborsClassifier(n_neighbors=20)\n",
    "knn20.fit(X_train, y_train) \n",
    "knn20.score(X_test, y_test) "
   ]
  },
  {
   "cell_type": "code",
   "execution_count": 30,
   "metadata": {},
   "outputs": [
    {
     "data": {
      "text/plain": [
       "0.8947368421052632"
      ]
     },
     "execution_count": 30,
     "metadata": {},
     "output_type": "execute_result"
    }
   ],
   "source": [
    "knn50=KNeighborsClassifier(n_neighbors=50)\n",
    "knn50.fit(X_train, y_train) \n",
    "knn50.score(X_test, y_test) "
   ]
  },
  {
   "cell_type": "code",
   "execution_count": 31,
   "metadata": {},
   "outputs": [
    {
     "data": {
      "text/plain": [
       "0.6052631578947368"
      ]
     },
     "execution_count": 31,
     "metadata": {},
     "output_type": "execute_result"
    }
   ],
   "source": [
    "knn100=KNeighborsClassifier(n_neighbors=100)\n",
    "knn100.fit(X_train, y_train) \n",
    "knn100.score(X_test, y_test) "
   ]
  },
  {
   "cell_type": "code",
   "execution_count": 34,
   "metadata": {},
   "outputs": [
    {
     "name": "stdout",
     "output_type": "stream",
     "text": [
      "x: [1, 2, 3, 4, 5, 10, 20, 50, 100]\n",
      "y: [0.9736842105263158, 0.9736842105263158, 0.9736842105263158, 0.9736842105263158, 0.9736842105263158, 0.9736842105263158, 0.9736842105263158, 0.8947368421052632, 0.6052631578947368]\n"
     ]
    }
   ],
   "source": [
    "x=[1,2,3,4,5,10,20,50,100]\n",
    "y=[0.9736842105263158, 0.9736842105263158, 0.9736842105263158, 0.9736842105263158, 0.9736842105263158, \n",
    "   0.9736842105263158, 0.9736842105263158, 0.8947368421052632, 0.6052631578947368]\n",
    "print(\"x:\",x)\n",
    "print(\"y:\",y)"
   ]
  },
  {
   "cell_type": "code",
   "execution_count": 35,
   "metadata": {},
   "outputs": [
    {
     "data": {
      "text/plain": [
       "<matplotlib.collections.PathCollection at 0x24bd77d8cc8>"
      ]
     },
     "execution_count": 35,
     "metadata": {},
     "output_type": "execute_result"
    },
    {
     "data": {
      "image/png": "[encoded data removed]",
      "text/plain": [
       "<Figure size 432x288 with 1 Axes>"
      ]
     },
     "metadata": {
      "needs_background": "light"
     },
     "output_type": "display_data"
    }
   ],
   "source": [
    "plt.figure(1)\n",
    "plt.scatter(x,y)"
   ]
  },
  {
   "cell_type": "code",
   "execution_count": 36,
   "metadata": {},
   "outputs": [],
   "source": [
    "# After 50 neighbors, the score goes down, and then drops more significantly at 100. When the number of \n",
    "# neighbors (k) queried is 1, the classifier finds the closest neighbor and categories the new unidentified \n",
    "# point as the closest neighbor. When k is changed, the k nearest neighbors are queried and allocated to \n",
    "# the new unidentified neighbor."
   ]
  },
  {
   "cell_type": "code",
   "execution_count": null,
   "metadata": {},
   "outputs": [],
   "source": []
  }
 ],
 "metadata": {
  "kernelspec": {
   "display_name": "Python 3 (ipykernel)",
   "language": "python",
   "name": "python3"
  },
  "language_info": {
   "codemirror_mode": {
    "name": "ipython",
    "version": 3
   },
   "file_extension": ".py",
   "mimetype": "text/x-python",
   "name": "python",
   "nbconvert_exporter": "python",
   "pygments_lexer": "ipython3",
   "version": "3.7.4"
  }
 },
 "nbformat": 4,
 "nbformat_minor": 2
}
