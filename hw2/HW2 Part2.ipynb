{
 "cells": [
  {
   "cell_type": "code",
   "execution_count": 1,
   "metadata": {},
   "outputs": [],
   "source": [
    "#P2 Q3: Modify the 2-input perceptron to recognize the logical expression ~A v B"
   ]
  },
  {
   "cell_type": "code",
   "execution_count": 2,
   "metadata": {},
   "outputs": [],
   "source": [
    "import numpy as np, random, math, os\n",
    "learnRate = 0.5\n",
    "bias = 1\n",
    "weights = [random.random()-3, random.random()-3, random.random()-3]"
   ]
  },
  {
   "cell_type": "code",
   "execution_count": 3,
   "metadata": {},
   "outputs": [],
   "source": [
    "def sigmoid(x):\n",
    "    return 1 / (1 + math.exp(-x))"
   ]
  },
  {
   "cell_type": "code",
   "execution_count": 4,
   "metadata": {},
   "outputs": [],
   "source": [
    "def perceptron2(input1, input2, output) :\n",
    "    outputP = input1*weights[0] + input2*weights[1] + bias * weights[2]\n",
    "    \n",
    "    outputP = sigmoid(outputP)\n",
    "    \n",
    "    error = output - outputP\n",
    "    #print(\"Error\", error) #with perfect weights, this should always be 0\n",
    "    \n",
    "    weights[0] += error * input1 * learnRate\n",
    "    weights[1] += error * input2 * learnRate\n",
    "    weights[2] += error * bias * learnRate"
   ]
  },
  {
   "cell_type": "code",
   "execution_count": 9,
   "metadata": {},
   "outputs": [],
   "source": [
    "def trainNetwork2(numTimes) :\n",
    "    for i in range(numTimes) :\n",
    "        perceptron2(0,0,1)\n",
    "        perceptron2(0,1,1)\n",
    "        perceptron2(1,0,0)\n",
    "        perceptron2(1,1,1)"
   ]
  },
  {
   "cell_type": "code",
   "execution_count": 10,
   "metadata": {},
   "outputs": [],
   "source": [
    "# Original Version provided with the Starter program\n",
    "def useNetwork() :\n",
    "    print(\"(~A OR B)\")\n",
    "    for x in range(2) :\n",
    "        for y in range(2) :\n",
    "                outputP = x*weights[0] + y*weights[1] + bias*weights[2]\n",
    "                outputP = sigmoid(outputP)\n",
    "                print(x, \"AND\", y, \"is :\", outputP)"
   ]
  },
  {
   "cell_type": "code",
   "execution_count": 11,
   "metadata": {},
   "outputs": [],
   "source": [
    "trainNetwork2(100)"
   ]
  },
  {
   "cell_type": "code",
   "execution_count": 12,
   "metadata": {},
   "outputs": [
    {
     "name": "stdout",
     "output_type": "stream",
     "text": [
      "(~A OR B)\n",
      "~ 0 OR 0 is : 0.9708084565983975\n",
      "~ 0 OR 1 is : 0.99997605945481\n",
      "~ 1 OR 0 is : 0.03883771285653213\n",
      "~ 1 OR 1 is : 0.9806763263547952\n"
     ]
    }
   ],
   "source": [
    "useNetwork()"
   ]
  },
  {
   "cell_type": "code",
   "execution_count": 13,
   "metadata": {},
   "outputs": [],
   "source": [
    "#P2 Q4: Modify the 2-input perceptron in an attempt to recognize the logical expression A = B"
   ]
  },
  {
   "cell_type": "code",
   "execution_count": 14,
   "metadata": {},
   "outputs": [],
   "source": [
    "def trainNetwork2(numTimes) :\n",
    "    for i in range(numTimes) :\n",
    "        perceptron2(0,0,1)\n",
    "        perceptron2(0,1,0)\n",
    "        perceptron2(1,0,0)\n",
    "        perceptron2(1,1,1)"
   ]
  },
  {
   "cell_type": "code",
   "execution_count": 15,
   "metadata": {},
   "outputs": [],
   "source": [
    "# Original Version provided with the Starter program\n",
    "def useNetwork() :\n",
    "    print(\"(A = B)\")\n",
    "    for x in range(2) :\n",
    "        for y in range(2) :\n",
    "                outputP = x*weights[0] + y*weights[1] + bias*weights[2]\n",
    "                outputP = sigmoid(outputP)\n",
    "                print(x, \"AND\", y, \"is :\", outputP)"
   ]
  },
  {
   "cell_type": "code",
   "execution_count": 16,
   "metadata": {},
   "outputs": [],
   "source": [
    "trainNetwork2(100)"
   ]
  },
  {
   "cell_type": "code",
   "execution_count": 17,
   "metadata": {},
   "outputs": [
    {
     "name": "stdout",
     "output_type": "stream",
     "text": [
      "(A = B)\n",
      "0 = 0 is : 0.42932433335846\n",
      "0 = 1 is : 0.5000648269944579\n",
      "1 = 0 is : 0.5709312248064886\n",
      "1 = 1 is : 0.6388829752120072\n"
     ]
    }
   ],
   "source": [
    "useNetwork()"
   ]
  },
  {
   "cell_type": "code",
   "execution_count": 18,
   "metadata": {},
   "outputs": [],
   "source": [
    "#P2 Q5: Extend the 2-input perceptron to be a 3-input perceptron"
   ]
  },
  {
   "cell_type": "code",
   "execution_count": 19,
   "metadata": {},
   "outputs": [],
   "source": [
    "weights = [random.random()-3, random.random()-3, random.random()-3, random.random()-3]"
   ]
  },
  {
   "cell_type": "code",
   "execution_count": 20,
   "metadata": {},
   "outputs": [],
   "source": [
    "def perceptron3(input1, input2, input3, output) :\n",
    "    outputP = input1*weights[0] + input2*weights[1] + input3*weights[2] + bias * weights[3]\n",
    "    \n",
    "    outputP = sigmoid(outputP)\n",
    "    \n",
    "    error = output - outputP\n",
    "    #print(\"Error\", error) #with perfect weights, this should always be 0\n",
    "    \n",
    "    weights[0] += error * input1 * learnRate\n",
    "    weights[1] += error * input2 * learnRate\n",
    "    weights[2] += error * input3 * learnRate\n",
    "    weights[3] += error * bias * learnRate"
   ]
  },
  {
   "cell_type": "code",
   "execution_count": 21,
   "metadata": {},
   "outputs": [],
   "source": [
    "#P2 Q6: Modify the training of your 3-input perceptron to recognize the first expression from class: (A^C) V (A^B) V (B^C)"
   ]
  },
  {
   "cell_type": "code",
   "execution_count": 37,
   "metadata": {},
   "outputs": [],
   "source": [
    "def trainNetwork3(numTimes) :\n",
    "    for i in range(numTimes) :\n",
    "        perceptron3(0,0,0,0)\n",
    "        perceptron3(0,0,1,0)\n",
    "        perceptron3(0,1,0,0)\n",
    "        perceptron3(0,1,1,1)\n",
    "        perceptron3(1,0,0,0)\n",
    "        perceptron3(1,0,1,1)\n",
    "        perceptron3(1,1,0,1)\n",
    "        perceptron3(1,1,1,1)"
   ]
  },
  {
   "cell_type": "code",
   "execution_count": 38,
   "metadata": {},
   "outputs": [],
   "source": [
    "# Original Version provided with the Starter program\n",
    "def useNetwork() :\n",
    "    print(\"(A^C) V (A^B) V (B^C)\")\n",
    "    for x in range(2) :\n",
    "        for y in range(2) :\n",
    "            for z in range(2) :\n",
    "                outputP = x*weights[0] + y*weights[1] + z*weights[2] + bias*weights[3]\n",
    "                outputP = sigmoid(outputP)\n",
    "                print(x, \"AND\", y, \"AND\", z, \"is :\", outputP)"
   ]
  },
  {
   "cell_type": "code",
   "execution_count": 39,
   "metadata": {},
   "outputs": [],
   "source": [
    "trainNetwork3(100)"
   ]
  },
  {
   "cell_type": "code",
   "execution_count": 40,
   "metadata": {},
   "outputs": [
    {
     "name": "stdout",
     "output_type": "stream",
     "text": [
      "(A^C) V (A^B) V (B^C)\n",
      "0 AND 0 AND 0 is : 0.0003495749708156181\n",
      "0 AND 0 AND 1 is : 0.07612617197583477\n",
      "0 AND 1 AND 0 is : 0.07591070967420692\n",
      "0 AND 1 AND 1 is : 0.9508747204492514\n",
      "1 AND 0 AND 0 is : 0.07550682469169193\n",
      "1 AND 0 AND 1 is : 0.9506044102574446\n",
      "1 AND 1 AND 0 is : 0.9504601729265695\n",
      "1 AND 1 AND 1 is : 0.9997788457173336\n"
     ]
    }
   ],
   "source": [
    "useNetwork()"
   ]
  },
  {
   "cell_type": "code",
   "execution_count": 41,
   "metadata": {},
   "outputs": [],
   "source": [
    "#P2 Q7: Modify the training for the 3-input perceptron to process this expression: (A^B) V (~A^~B)"
   ]
  },
  {
   "cell_type": "code",
   "execution_count": 42,
   "metadata": {},
   "outputs": [],
   "source": [
    "def trainNetwork3(numTimes) :\n",
    "    for i in range(numTimes) :\n",
    "        perceptron3(0,0,0,1)\n",
    "        perceptron3(0,0,1,1)\n",
    "        perceptron3(0,1,0,0)\n",
    "        perceptron3(0,1,1,0)\n",
    "        perceptron3(1,0,0,0)\n",
    "        perceptron3(1,0,1,0)\n",
    "        perceptron3(1,1,0,1)\n",
    "        perceptron3(1,1,1,1)"
   ]
  },
  {
   "cell_type": "code",
   "execution_count": 43,
   "metadata": {},
   "outputs": [],
   "source": [
    "# Original Version provided with the Starter program\n",
    "def useNetwork() :\n",
    "    print(\"(A^B) V (~A^~B)\")\n",
    "    for x in range(2) :\n",
    "        for y in range(2) :\n",
    "            for z in range(2) :\n",
    "                outputP = x*weights[0] + y*weights[1] + z*weights[2] + bias*weights[3]\n",
    "                outputP = sigmoid(outputP)\n",
    "                print(x, \"AND\", y, \"AND\", z, \"is :\", outputP)"
   ]
  },
  {
   "cell_type": "code",
   "execution_count": 44,
   "metadata": {},
   "outputs": [],
   "source": [
    "trainNetwork3(100)"
   ]
  },
  {
   "cell_type": "code",
   "execution_count": 45,
   "metadata": {},
   "outputs": [
    {
     "name": "stdout",
     "output_type": "stream",
     "text": [
      "(A^B) V (~A^~B)\n",
      "0 AND 0 AND 0 is : 0.3867161872129413\n",
      "0 AND 0 AND 1 is : 0.38338333102657085\n",
      "0 AND 1 AND 0 is : 0.4801765263081117\n",
      "0 AND 1 AND 1 is : 0.4766642368374388\n",
      "1 AND 0 AND 0 is : 0.6583432097969747\n",
      "1 AND 0 AND 1 is : 0.6551702390823235\n",
      "1 AND 1 AND 0 is : 0.7384100274060721\n",
      "1 AND 1 AND 1 is : 0.7356820980070108\n"
     ]
    }
   ],
   "source": [
    "useNetwork()"
   ]
  },
  {
   "cell_type": "code",
   "execution_count": null,
   "metadata": {},
   "outputs": [],
   "source": []
  }
 ],
 "metadata": {
  "kernelspec": {
   "display_name": "Python 3",
   "language": "python",
   "name": "python3"
  },
  "language_info": {
   "codemirror_mode": {
    "name": "ipython",
    "version": 3
   },
   "file_extension": ".py",
   "mimetype": "text/x-python",
   "name": "python",
   "nbconvert_exporter": "python",
   "pygments_lexer": "ipython3",
   "version": "3.7.4"
  }
 },
 "nbformat": 4,
 "nbformat_minor": 2
}
