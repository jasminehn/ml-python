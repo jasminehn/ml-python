{
 "cells": [
  {
   "cell_type": "code",
   "execution_count": null,
   "metadata": {},
   "outputs": [],
   "source": [
    "import tensorflow\n",
    "from tensorflow.keras.models import Sequential\n",
    "from keras.layers.core import Dense, Dropout, Activation\n",
    "from tensorflow.keras.optimizers import SGD\n",
    "import numpy as np\n",
    "#import pandas as pd\n",
    "\n",
    "import sklearn\n",
    "from sklearn.model_selection import train_test_split\n",
    "from sklearn.metrics import accuracy_score\n",
    "from sklearn.datasets import load_iris \n",
    "from sklearn.preprocessing import OneHotEncoder"
   ]
  },
  {
   "cell_type": "code",
   "execution_count": null,
   "metadata": {},
   "outputs": [],
   "source": [
    "# Get Iris dataset from sklearn\n",
    "iris_dataset = load_iris()\n",
    "\n",
    "# Creates global variables to pass data between classes\n",
    "model=0\n",
    "Xtrain=0\n",
    "ytrain=0\n",
    "Xtest=0\n",
    "ytest=0\n",
    "\n",
    "enc = OneHotEncoder()\n",
    "\n",
    "Xtrain, Xtest, ytrain, ytest = train_test_split(iris_dataset['data'], iris_dataset['target'], random_state=0)\n",
    "ytrainRS = np.reshape(ytrain,(-1,1))\n",
    "enc.fit(ytrainRS)\n",
    "ytrainENC = enc.transform(ytrainRS).toarray()\n",
    "\n",
    "ytestRS = np.reshape(ytest,(-1,1))\n",
    "enc.fit(ytestRS)\n",
    "ytestENC = enc.transform(ytestRS).toarray()\n"
   ]
  },
  {
   "cell_type": "code",
   "execution_count": null,
   "metadata": {},
   "outputs": [],
   "source": [
    "ytest"
   ]
  },
  {
   "cell_type": "code",
   "execution_count": null,
   "metadata": {},
   "outputs": [],
   "source": [
    "ytestRS"
   ]
  },
  {
   "cell_type": "code",
   "execution_count": null,
   "metadata": {},
   "outputs": [],
   "source": [
    "ytestENC"
   ]
  },
  {
   "cell_type": "code",
   "execution_count": null,
   "metadata": {},
   "outputs": [],
   "source": [
    "# Builds NN to classify Iris dataset\n",
    "def buildAndTrainModel(numEpochs) :\n",
    "    global model #, Xtrain, ytrain, Xtest, ytest\n",
    "    # Build the NN model - 4 inputs, 3 neurons in output layer\n",
    "    model = Sequential()\n",
    "    model.add(Dense(3, input_dim=4))\n",
    "    model.add(Activation('tanh')) # Use tanh activation function\n",
    "    \n",
    "    # create a Stochastic Gradient Descent (SGD) optimizer with a learning rate of 0.1\n",
    "    sgd = SGD(lr=0.1)\n",
    "    # build the model NN as described by the above commands\n",
    "    model.compile(loss='mean_squared_error', optimizer=sgd,metrics = [\"accuracy\"])\n",
    "    \n",
    "    # do a user specified number of iterations of forward and backward propagation to train the network\n",
    "    # all operations here are done behind the scenes, all updating of weights and\n",
    "    # calculation of errors\n",
    "\n",
    "    model.fit(Xtrain, ytrainENC, batch_size=1, epochs=numEpochs)"
   ]
  },
  {
   "cell_type": "code",
   "execution_count": null,
   "metadata": {},
   "outputs": [],
   "source": [
    "def predictResults () :\n",
    "    results = model.predict(Xtest)\n",
    "    print(\"results : \\n\", results[:5])\n",
    "\n",
    "    sum=0\n",
    "    for i in range(len(ytestENC)) :\n",
    "        if (posOfMaxOfThree(ytestENC[i][0], ytestENC[i][1], ytestENC[i][2]) == posOfMaxOfThree(results[i][0], results[i][1], results[i][2])) :\n",
    "             sum += 1;\n",
    "    print(\"Accuracy:\",(sum/len(ytest)) * 100)"
   ]
  },
  {
   "cell_type": "code",
   "execution_count": null,
   "metadata": {},
   "outputs": [],
   "source": [
    "# Used to compute the accuracy of the prediction, so the output of the NN and the integer categories can be compared\n",
    "def posOfMaxOfThree(n1, n2, n3) :\n",
    "    if (n1 >= n2 and n1 >= n3) :\n",
    "        return 0\n",
    "    if (n2 >= n1 and n2 >= n3) :\n",
    "        return 1\n",
    "    if (n3 >= n1 and n3 >= n2) :\n",
    "        return 2"
   ]
  },
  {
   "cell_type": "code",
   "execution_count": null,
   "metadata": {},
   "outputs": [],
   "source": [
    "#Demonstrate posOfMaxOfThree here"
   ]
  },
  {
   "cell_type": "code",
   "execution_count": null,
   "metadata": {},
   "outputs": [],
   "source": [
    "buildAndTrainModel(100)"
   ]
  },
  {
   "cell_type": "code",
   "execution_count": null,
   "metadata": {},
   "outputs": [],
   "source": [
    "predictResults()"
   ]
  },
  {
   "cell_type": "code",
   "execution_count": null,
   "metadata": {},
   "outputs": [],
   "source": []
  }
 ],
 "metadata": {
  "kernelspec": {
   "display_name": "Python 3 (ipykernel)",
   "language": "python",
   "name": "python3"
  },
  "language_info": {
   "codemirror_mode": {
    "name": "ipython",
    "version": 3
   },
   "file_extension": ".py",
   "mimetype": "text/x-python",
   "name": "python",
   "nbconvert_exporter": "python",
   "pygments_lexer": "ipython3",
   "version": "3.7.4"
  }
 },
 "nbformat": 4,
 "nbformat_minor": 2
}
