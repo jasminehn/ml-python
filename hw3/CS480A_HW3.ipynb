{
  "nbformat": 4,
  "nbformat_minor": 0,
  "metadata": {
    "colab": {
      "name": "CS480A - HW3.ipynb",
      "provenance": []
    },
    "kernelspec": {
      "name": "python3",
      "display_name": "Python 3"
    },
    "language_info": {
      "name": "python"
    }
  },
  "cells": [
    {
      "cell_type": "code",
      "execution_count": 5,
      "metadata": {
        "id": "EhNyIUXZu_jw"
      },
      "outputs": [],
      "source": [
        "from keras.models import Sequential\n",
        "from keras.layers.core import Dense, Dropout, Activation\n",
        "from tensorflow.keras.utils import to_categorical\n",
        "import numpy as np\n",
        "import pandas as pd\n",
        "import sklearn\n",
        "from sklearn.neighbors import KNeighborsClassifier\n",
        "from sklearn.model_selection import train_test_split\n",
        "from tensorflow.keras.optimizers import SGD\n",
        "from sklearn.metrics import accuracy_score\n",
        "from sklearn.preprocessing import LabelEncoder\n",
        "from sklearn.preprocessing import StandardScaler"
      ]
    },
    {
      "cell_type": "code",
      "source": [
        "from google.colab import drive\n",
        "drive.mount('/content/drive')"
      ],
      "metadata": {
        "colab": {
          "base_uri": "https://localhost:8080/"
        },
        "id": "Tqpm-xjSvAFK",
        "outputId": "f8f94e86-fe7e-4945-b511-396cb0aad9e9"
      },
      "execution_count": 2,
      "outputs": [
        {
          "output_type": "stream",
          "name": "stdout",
          "text": [
            "Mounted at /content/drive\n"
          ]
        }
      ]
    },
    {
      "cell_type": "code",
      "source": [
        "cb_dataset = pd.read_csv('/content/drive/My Drive/CS480A - Machine Learning/CrystalBerriesDistribution2.csv').values\n",
        "#cb_dataset = pd.read_csv('CrystalBerriesDistribution2.csv').values #if using jupyter notebook, use this line instead of the one above"
      ],
      "metadata": {
        "id": "zr8QNilFvAIA"
      },
      "execution_count": 3,
      "outputs": []
    },
    {
      "cell_type": "code",
      "source": [
        "category = cb_dataset[:,len(cb_dataset[0])-1]\n",
        "labelencoder = LabelEncoder()\n",
        "category2 = labelencoder.fit_transform(category)\n",
        "target = category2\n",
        "target = target.astype(int)\n",
        "data = cb_dataset[:,:-1]\n",
        "data_scaled = StandardScaler().fit_transform(data)"
      ],
      "metadata": {
        "id": "J_BFyVzZvAN3"
      },
      "execution_count": 8,
      "outputs": []
    },
    {
      "cell_type": "code",
      "source": [
        "def RunKNN(new):\n",
        "    X_train, X_test, y_train, y_test = train_test_split(data_scaled, target, random_state=4)\n",
        "    knn = KNeighborsClassifier(n_neighbors=new)\n",
        "    knn.fit(X_train, y_train)\n",
        "    return knn.score(X_test, y_test)"
      ],
      "metadata": {
        "id": "NvVubk-2vATJ"
      },
      "execution_count": 9,
      "outputs": []
    },
    {
      "cell_type": "code",
      "source": [
        "RunKNN(1)"
      ],
      "metadata": {
        "colab": {
          "base_uri": "https://localhost:8080/"
        },
        "id": "UnXTYVUuvAVz",
        "outputId": "36e79941-188a-414a-d3ac-8d4319c3340c"
      },
      "execution_count": 10,
      "outputs": [
        {
          "output_type": "execute_result",
          "data": {
            "text/plain": [
              "0.9533333333333334"
            ]
          },
          "metadata": {},
          "execution_count": 10
        }
      ]
    },
    {
      "cell_type": "markdown",
      "source": [
        "Part 1: Question 1"
      ],
      "metadata": {
        "id": "CXvGqZeJw28a"
      }
    },
    {
      "cell_type": "code",
      "source": [
        "model = 0"
      ],
      "metadata": {
        "id": "HFIXCFG5vAY2"
      },
      "execution_count": 11,
      "outputs": []
    },
    {
      "cell_type": "code",
      "source": [
        "category = cb_dataset[:,len(cb_dataset[0])-1]\n",
        "labelencoder = LabelEncoder()\n",
        "category2 = labelencoder.fit_transform(category)\n",
        "target = category2\n",
        "target = to_categorical(target)\n",
        "data = cb_dataset[:,:-1]\n",
        "data_scaled = StandardScaler().fit_transform(data)"
      ],
      "metadata": {
        "id": "dVMO7L7ivAcG"
      },
      "execution_count": 14,
      "outputs": []
    },
    {
      "cell_type": "code",
      "source": [
        "Xtrain, Xtest, ytrain, ytest = train_test_split(data_scaled, target, random_state=5)"
      ],
      "metadata": {
        "id": "dq2B4PeZw-4X"
      },
      "execution_count": 15,
      "outputs": []
    },
    {
      "cell_type": "code",
      "source": [
        "def buildAndTrainModel(numEpochs) :\n",
        "    global model, Xtrain, Ytrain, xtest, ytest\n",
        "    model = Sequential()\n",
        "    model.add(Dense(10, input_dim=6))\n",
        "    model.add(Activation('relu'))\n",
        "    model.add(Dense(3))\n",
        "    model.add(Activation('relu'))\n",
        "    sgd = SGD(lr=0.1)\n",
        "    model.compile(loss='mean_squared_error', optimizer=sgd,metrics = [\"accuracy\"])\n",
        "    model.fit(Xtrain, ytrain, batch_size=1, epochs=numEpochs)"
      ],
      "metadata": {
        "id": "JHjHUmjmw-_7"
      },
      "execution_count": 16,
      "outputs": []
    },
    {
      "cell_type": "code",
      "source": [
        "buildAndTrainModel(50)"
      ],
      "metadata": {
        "colab": {
          "base_uri": "https://localhost:8080/"
        },
        "id": "m_JyQW2Aw_Hg",
        "outputId": "8698812a-fc1e-4660-ce3e-6efd43122d09"
      },
      "execution_count": 17,
      "outputs": [
        {
          "output_type": "stream",
          "name": "stdout",
          "text": [
            "Epoch 1/50\n"
          ]
        },
        {
          "output_type": "stream",
          "name": "stderr",
          "text": [
            "/usr/local/lib/python3.7/dist-packages/keras/optimizer_v2/gradient_descent.py:102: UserWarning: The `lr` argument is deprecated, use `learning_rate` instead.\n",
            "  super(SGD, self).__init__(name, **kwargs)\n"
          ]
        },
        {
          "output_type": "stream",
          "name": "stdout",
          "text": [
            "449/449 [==============================] - 1s 1ms/step - loss: 0.1131 - accuracy: 0.8085\n",
            "Epoch 2/50\n",
            "449/449 [==============================] - 1s 2ms/step - loss: 0.0482 - accuracy: 0.9332\n",
            "Epoch 3/50\n",
            "449/449 [==============================] - 1s 2ms/step - loss: 0.0419 - accuracy: 0.9421\n",
            "Epoch 4/50\n",
            "449/449 [==============================] - 1s 2ms/step - loss: 0.0372 - accuracy: 0.9532\n",
            "Epoch 5/50\n",
            "449/449 [==============================] - 1s 2ms/step - loss: 0.0371 - accuracy: 0.9443\n",
            "Epoch 6/50\n",
            "449/449 [==============================] - 1s 2ms/step - loss: 0.0316 - accuracy: 0.9532\n",
            "Epoch 7/50\n",
            "449/449 [==============================] - 1s 2ms/step - loss: 0.0306 - accuracy: 0.9599\n",
            "Epoch 8/50\n",
            "449/449 [==============================] - 1s 2ms/step - loss: 0.0263 - accuracy: 0.9733\n",
            "Epoch 9/50\n",
            "449/449 [==============================] - 1s 2ms/step - loss: 0.0291 - accuracy: 0.9465\n",
            "Epoch 10/50\n",
            "449/449 [==============================] - 1s 2ms/step - loss: 0.0248 - accuracy: 0.9666\n",
            "Epoch 11/50\n",
            "449/449 [==============================] - 1s 2ms/step - loss: 0.0271 - accuracy: 0.9488\n",
            "Epoch 12/50\n",
            "449/449 [==============================] - 1s 2ms/step - loss: 0.0258 - accuracy: 0.9577\n",
            "Epoch 13/50\n",
            "449/449 [==============================] - 1s 1ms/step - loss: 0.0259 - accuracy: 0.9577\n",
            "Epoch 14/50\n",
            "449/449 [==============================] - 1s 2ms/step - loss: 0.0258 - accuracy: 0.9577\n",
            "Epoch 15/50\n",
            "449/449 [==============================] - 1s 2ms/step - loss: 0.0228 - accuracy: 0.9688\n",
            "Epoch 16/50\n",
            "449/449 [==============================] - 1s 2ms/step - loss: 0.0250 - accuracy: 0.9644\n",
            "Epoch 17/50\n",
            "449/449 [==============================] - 1s 2ms/step - loss: 0.0256 - accuracy: 0.9666\n",
            "Epoch 18/50\n",
            "449/449 [==============================] - 1s 2ms/step - loss: 0.0231 - accuracy: 0.9710\n",
            "Epoch 19/50\n",
            "449/449 [==============================] - 1s 2ms/step - loss: 0.0284 - accuracy: 0.9555\n",
            "Epoch 20/50\n",
            "449/449 [==============================] - 1s 2ms/step - loss: 0.0241 - accuracy: 0.9688\n",
            "Epoch 21/50\n",
            "449/449 [==============================] - 1s 2ms/step - loss: 0.0304 - accuracy: 0.9621\n",
            "Epoch 22/50\n",
            "449/449 [==============================] - 1s 2ms/step - loss: 0.0283 - accuracy: 0.9555\n",
            "Epoch 23/50\n",
            "449/449 [==============================] - 1s 1ms/step - loss: 0.0242 - accuracy: 0.9644\n",
            "Epoch 24/50\n",
            "449/449 [==============================] - 1s 2ms/step - loss: 0.0272 - accuracy: 0.9621\n",
            "Epoch 25/50\n",
            "449/449 [==============================] - 1s 2ms/step - loss: 0.0254 - accuracy: 0.9644\n",
            "Epoch 26/50\n",
            "449/449 [==============================] - 1s 1ms/step - loss: 0.0262 - accuracy: 0.9733\n",
            "Epoch 27/50\n",
            "449/449 [==============================] - 1s 2ms/step - loss: 0.0254 - accuracy: 0.9621\n",
            "Epoch 28/50\n",
            "449/449 [==============================] - 1s 2ms/step - loss: 0.0262 - accuracy: 0.9710\n",
            "Epoch 29/50\n",
            "449/449 [==============================] - 1s 2ms/step - loss: 0.0276 - accuracy: 0.9621\n",
            "Epoch 30/50\n",
            "449/449 [==============================] - 1s 2ms/step - loss: 0.0228 - accuracy: 0.9710\n",
            "Epoch 31/50\n",
            "449/449 [==============================] - 1s 1ms/step - loss: 0.0250 - accuracy: 0.9710\n",
            "Epoch 32/50\n",
            "449/449 [==============================] - 1s 1ms/step - loss: 0.0238 - accuracy: 0.9777\n",
            "Epoch 33/50\n",
            "449/449 [==============================] - 1s 2ms/step - loss: 0.0285 - accuracy: 0.9688\n",
            "Epoch 34/50\n",
            "449/449 [==============================] - 1s 1ms/step - loss: 0.0253 - accuracy: 0.9800\n",
            "Epoch 35/50\n",
            "449/449 [==============================] - 1s 1ms/step - loss: 0.0244 - accuracy: 0.9733\n",
            "Epoch 36/50\n",
            "449/449 [==============================] - 1s 2ms/step - loss: 0.0333 - accuracy: 0.9599\n",
            "Epoch 37/50\n",
            "449/449 [==============================] - 1s 1ms/step - loss: 0.0234 - accuracy: 0.9755\n",
            "Epoch 38/50\n",
            "449/449 [==============================] - 1s 2ms/step - loss: 0.0266 - accuracy: 0.9688\n",
            "Epoch 39/50\n",
            "449/449 [==============================] - 1s 2ms/step - loss: 0.1259 - accuracy: 0.9577\n",
            "Epoch 40/50\n",
            "449/449 [==============================] - 1s 2ms/step - loss: 0.1292 - accuracy: 0.9510\n",
            "Epoch 41/50\n",
            "449/449 [==============================] - 1s 1ms/step - loss: 0.1287 - accuracy: 0.9488\n",
            "Epoch 42/50\n",
            "449/449 [==============================] - 1s 2ms/step - loss: 0.1259 - accuracy: 0.9577\n",
            "Epoch 43/50\n",
            "449/449 [==============================] - 1s 2ms/step - loss: 0.1259 - accuracy: 0.9488\n",
            "Epoch 44/50\n",
            "449/449 [==============================] - 1s 2ms/step - loss: 0.1244 - accuracy: 0.9532\n",
            "Epoch 45/50\n",
            "449/449 [==============================] - 1s 2ms/step - loss: 0.1252 - accuracy: 0.9532\n",
            "Epoch 46/50\n",
            "449/449 [==============================] - 1s 2ms/step - loss: 0.1221 - accuracy: 0.9621\n",
            "Epoch 47/50\n",
            "449/449 [==============================] - 1s 2ms/step - loss: 0.1232 - accuracy: 0.9688\n",
            "Epoch 48/50\n",
            "449/449 [==============================] - 1s 1ms/step - loss: 0.1223 - accuracy: 0.9599\n",
            "Epoch 49/50\n",
            "449/449 [==============================] - 1s 2ms/step - loss: 0.1232 - accuracy: 0.9577\n",
            "Epoch 50/50\n",
            "449/449 [==============================] - 1s 1ms/step - loss: 0.1207 - accuracy: 0.9599\n"
          ]
        }
      ]
    },
    {
      "cell_type": "code",
      "source": [
        "def posOfMaxOfThree(n1, n2, n3) :\n",
        "    if (n1 >= n2 and n1 >= n3) :\n",
        "        return 0\n",
        "    if (n2 >= n1 and n2 >= n3) :\n",
        "        return 1\n",
        "    if (n3 >= n1 and n3 >= n2) :\n",
        "        return 2"
      ],
      "metadata": {
        "id": "fh0BUq4cw_OQ"
      },
      "execution_count": 18,
      "outputs": []
    },
    {
      "cell_type": "code",
      "source": [
        "def predictResults () :\n",
        "    sum=0\n",
        "    for i in range(len(Xtest)) :\n",
        "        results = model.predict(np.array([Xtest[i]]))\n",
        "        result = posOfMaxOfThree(results[0][0], results[0][1], results[0][2])\n",
        "        if (result == posOfMaxOfThree(ytest[i][0], ytest[i][1], ytest[i][2])):\n",
        "            sum += 1\n",
        "    print(\"Accuracy:\",(sum/len(ytest)) * 100)"
      ],
      "metadata": {
        "id": "gnHer2FgxLm2"
      },
      "execution_count": 19,
      "outputs": []
    },
    {
      "cell_type": "code",
      "source": [
        "predictResults()"
      ],
      "metadata": {
        "colab": {
          "base_uri": "https://localhost:8080/"
        },
        "id": "CJ10gh67xLto",
        "outputId": "20668cdb-f65a-4a5b-a83e-0b2b90fc23f5"
      },
      "execution_count": 20,
      "outputs": [
        {
          "output_type": "stream",
          "name": "stdout",
          "text": [
            "Accuracy: 98.0\n"
          ]
        }
      ]
    },
    {
      "cell_type": "markdown",
      "source": [
        "Part 1 Question 2"
      ],
      "metadata": {
        "id": "GgksS0qyx-F5"
      }
    },
    {
      "cell_type": "code",
      "source": [
        "category = cb_dataset[:,len(cb_dataset[0])-1]\n",
        "labelencoder = LabelEncoder()\n",
        "category2 = labelencoder.fit_transform(category)\n",
        "target = category2\n",
        "target = to_categorical(target)\n",
        "Numbers = cb_dataset[:,:-1]\n",
        "data_scaled = StandardScaler().fit_transform(Numbers)"
      ],
      "metadata": {
        "id": "cLvsFW2ixL1F"
      },
      "execution_count": 21,
      "outputs": []
    },
    {
      "cell_type": "code",
      "source": [
        "Xtrain, Xtest, ytrain, ytest = train_test_split(data_scaled, target, random_state=5)"
      ],
      "metadata": {
        "id": "ILmxuKCFyOXk"
      },
      "execution_count": 22,
      "outputs": []
    },
    {
      "cell_type": "code",
      "source": [
        "def buildAndTrainModel(numEpochs) :\n",
        "    global model, Xtrain, Ytrain, xtest, ytest\n",
        "    model = Sequential()\n",
        "    model.add(Dense(4, input_dim=6))\n",
        "    model.add(Activation('relu'))\n",
        "    model.add(Dense(3))\n",
        "    model.add(Activation('relu'))\n",
        "    sgd = SGD(lr=0.1) #TODO CHANGE TO LEARNING TARE\n",
        "    model.compile(loss='mean_squared_error', optimizer=sgd,metrics = [\"accuracy\"])\n",
        "    model.fit(Xtrain, ytrain, batch_size=1, epochs=numEpochs)"
      ],
      "metadata": {
        "id": "EwPp9e3SyOf3"
      },
      "execution_count": 26,
      "outputs": []
    },
    {
      "cell_type": "code",
      "source": [
        "buildAndTrainModel(50)"
      ],
      "metadata": {
        "colab": {
          "base_uri": "https://localhost:8080/"
        },
        "id": "3fJ0pQuvyOoS",
        "outputId": "600fe161-7fdf-430d-e0db-7c23f69fec48"
      },
      "execution_count": 27,
      "outputs": [
        {
          "output_type": "stream",
          "name": "stdout",
          "text": [
            "Epoch 1/50\n"
          ]
        },
        {
          "output_type": "stream",
          "name": "stderr",
          "text": [
            "/usr/local/lib/python3.7/dist-packages/keras/optimizer_v2/gradient_descent.py:102: UserWarning: The `lr` argument is deprecated, use `learning_rate` instead.\n",
            "  super(SGD, self).__init__(name, **kwargs)\n"
          ]
        },
        {
          "output_type": "stream",
          "name": "stdout",
          "text": [
            "449/449 [==============================] - 1s 2ms/step - loss: 0.1569 - accuracy: 0.6837\n",
            "Epoch 2/50\n",
            "449/449 [==============================] - 1s 2ms/step - loss: 0.0810 - accuracy: 0.8552\n",
            "Epoch 3/50\n",
            "449/449 [==============================] - 1s 2ms/step - loss: 0.0520 - accuracy: 0.9332\n",
            "Epoch 4/50\n",
            "449/449 [==============================] - 1s 2ms/step - loss: 0.0515 - accuracy: 0.9287\n",
            "Epoch 5/50\n",
            "449/449 [==============================] - 1s 2ms/step - loss: 0.0485 - accuracy: 0.9488\n",
            "Epoch 6/50\n",
            "449/449 [==============================] - 1s 1ms/step - loss: 0.0483 - accuracy: 0.9354\n",
            "Epoch 7/50\n",
            "449/449 [==============================] - 1s 2ms/step - loss: 0.0469 - accuracy: 0.9510\n",
            "Epoch 8/50\n",
            "449/449 [==============================] - 1s 2ms/step - loss: 0.0444 - accuracy: 0.9488\n",
            "Epoch 9/50\n",
            "449/449 [==============================] - 1s 1ms/step - loss: 0.0401 - accuracy: 0.9510\n",
            "Epoch 10/50\n",
            "449/449 [==============================] - 1s 2ms/step - loss: 0.0455 - accuracy: 0.9555\n",
            "Epoch 11/50\n",
            "449/449 [==============================] - 1s 2ms/step - loss: 0.0475 - accuracy: 0.9376\n",
            "Epoch 12/50\n",
            "449/449 [==============================] - 1s 1ms/step - loss: 0.0444 - accuracy: 0.9354\n",
            "Epoch 13/50\n",
            "449/449 [==============================] - 1s 2ms/step - loss: 0.0423 - accuracy: 0.9399\n",
            "Epoch 14/50\n",
            "449/449 [==============================] - 1s 2ms/step - loss: 0.0401 - accuracy: 0.9510\n",
            "Epoch 15/50\n",
            "449/449 [==============================] - 1s 1ms/step - loss: 0.0457 - accuracy: 0.9421\n",
            "Epoch 16/50\n",
            "449/449 [==============================] - 1s 2ms/step - loss: 0.0420 - accuracy: 0.9376\n",
            "Epoch 17/50\n",
            "449/449 [==============================] - 1s 2ms/step - loss: 0.0426 - accuracy: 0.9443\n",
            "Epoch 18/50\n",
            "449/449 [==============================] - 1s 2ms/step - loss: 0.0396 - accuracy: 0.9599\n",
            "Epoch 19/50\n",
            "449/449 [==============================] - 1s 2ms/step - loss: 0.0445 - accuracy: 0.9532\n",
            "Epoch 20/50\n",
            "449/449 [==============================] - 1s 3ms/step - loss: 0.0412 - accuracy: 0.9465\n",
            "Epoch 21/50\n",
            "449/449 [==============================] - 1s 2ms/step - loss: 0.0402 - accuracy: 0.9599\n",
            "Epoch 22/50\n",
            "449/449 [==============================] - 1s 2ms/step - loss: 0.0400 - accuracy: 0.9510\n",
            "Epoch 23/50\n",
            "449/449 [==============================] - 1s 2ms/step - loss: 0.0416 - accuracy: 0.9532\n",
            "Epoch 24/50\n",
            "449/449 [==============================] - 1s 2ms/step - loss: 0.0393 - accuracy: 0.9577\n",
            "Epoch 25/50\n",
            "449/449 [==============================] - 1s 2ms/step - loss: 0.0411 - accuracy: 0.9465\n",
            "Epoch 26/50\n",
            "449/449 [==============================] - 1s 3ms/step - loss: 0.0435 - accuracy: 0.9510\n",
            "Epoch 27/50\n",
            "449/449 [==============================] - 1s 3ms/step - loss: 0.0559 - accuracy: 0.9421\n",
            "Epoch 28/50\n",
            "449/449 [==============================] - 1s 3ms/step - loss: 0.1322 - accuracy: 0.9243\n",
            "Epoch 29/50\n",
            "449/449 [==============================] - 1s 2ms/step - loss: 0.1297 - accuracy: 0.9354\n",
            "Epoch 30/50\n",
            "449/449 [==============================] - 1s 2ms/step - loss: 0.1298 - accuracy: 0.9376\n",
            "Epoch 31/50\n",
            "449/449 [==============================] - 1s 2ms/step - loss: 0.1307 - accuracy: 0.9332\n",
            "Epoch 32/50\n",
            "449/449 [==============================] - 1s 2ms/step - loss: 0.1289 - accuracy: 0.9465\n",
            "Epoch 33/50\n",
            "449/449 [==============================] - 1s 1ms/step - loss: 0.1303 - accuracy: 0.9555\n",
            "Epoch 34/50\n",
            "449/449 [==============================] - 1s 2ms/step - loss: 0.1299 - accuracy: 0.9399\n",
            "Epoch 35/50\n",
            "449/449 [==============================] - 1s 3ms/step - loss: 0.1306 - accuracy: 0.9399\n",
            "Epoch 36/50\n",
            "449/449 [==============================] - 1s 3ms/step - loss: 0.1292 - accuracy: 0.9376\n",
            "Epoch 37/50\n",
            "449/449 [==============================] - 1s 3ms/step - loss: 0.1291 - accuracy: 0.9532\n",
            "Epoch 38/50\n",
            "449/449 [==============================] - 1s 2ms/step - loss: 0.1295 - accuracy: 0.9399\n",
            "Epoch 39/50\n",
            "449/449 [==============================] - 1s 2ms/step - loss: 0.1314 - accuracy: 0.9488\n",
            "Epoch 40/50\n",
            "449/449 [==============================] - 1s 2ms/step - loss: 0.1286 - accuracy: 0.9488\n",
            "Epoch 41/50\n",
            "449/449 [==============================] - 1s 2ms/step - loss: 0.1303 - accuracy: 0.9488\n",
            "Epoch 42/50\n",
            "449/449 [==============================] - 1s 2ms/step - loss: 0.1290 - accuracy: 0.9488\n",
            "Epoch 43/50\n",
            "449/449 [==============================] - 1s 2ms/step - loss: 0.1293 - accuracy: 0.9465\n",
            "Epoch 44/50\n",
            "449/449 [==============================] - 1s 2ms/step - loss: 0.1286 - accuracy: 0.9443\n",
            "Epoch 45/50\n",
            "449/449 [==============================] - 1s 2ms/step - loss: 0.1300 - accuracy: 0.9488\n",
            "Epoch 46/50\n",
            "449/449 [==============================] - 1s 2ms/step - loss: 0.1287 - accuracy: 0.9421\n",
            "Epoch 47/50\n",
            "449/449 [==============================] - 1s 2ms/step - loss: 0.1284 - accuracy: 0.9510\n",
            "Epoch 48/50\n",
            "449/449 [==============================] - 1s 2ms/step - loss: 0.1283 - accuracy: 0.9488\n",
            "Epoch 49/50\n",
            "449/449 [==============================] - 1s 2ms/step - loss: 0.1290 - accuracy: 0.9510\n",
            "Epoch 50/50\n",
            "449/449 [==============================] - 1s 2ms/step - loss: 0.1289 - accuracy: 0.9488\n"
          ]
        }
      ]
    },
    {
      "cell_type": "code",
      "source": [
        "predictResults()"
      ],
      "metadata": {
        "colab": {
          "base_uri": "https://localhost:8080/"
        },
        "id": "rlLXFlFly_HU",
        "outputId": "6ebfa268-4b4a-4f26-bba3-4402b9876ee8"
      },
      "execution_count": 28,
      "outputs": [
        {
          "output_type": "stream",
          "name": "stdout",
          "text": [
            "Accuracy: 94.66666666666667\n"
          ]
        }
      ]
    },
    {
      "cell_type": "markdown",
      "source": [
        "## PART 2"
      ],
      "metadata": {
        "id": "JyXCH2sNz_mh"
      }
    },
    {
      "cell_type": "markdown",
      "source": [
        "P2 Question 1"
      ],
      "metadata": {
        "id": "P8B4E5U7z_3n"
      }
    },
    {
      "cell_type": "code",
      "source": [
        "heart_dataset = pd.read_csv('/content/drive/My Drive/CS480A - Machine Learning/heart.csv')\n",
        "#heart_dataset = pd.read_csv('heart.csv').values #if using jupyter notebook, use this line instead of the one above"
      ],
      "metadata": {
        "id": "xdy25Rp8y_SG"
      },
      "execution_count": 323,
      "outputs": []
    },
    {
      "cell_type": "code",
      "source": [
        "heart_dataset.head()"
      ],
      "metadata": {
        "colab": {
          "base_uri": "https://localhost:8080/",
          "height": 206
        },
        "id": "lJy9PHBXy_ap",
        "outputId": "f5a66a36-f119-40d3-f55f-2650a2e8f58f"
      },
      "execution_count": 324,
      "outputs": [
        {
          "output_type": "execute_result",
          "data": {
            "text/plain": [
              "   age  sex  cp  trestbps  chol  fbs  restecg  thalach  exang  oldpeak  slope  \\\n",
              "0   63    1   3       145   233    1        0      150      0      2.3      0   \n",
              "1   37    1   2       130   250    0        1      187      0      3.5      0   \n",
              "2   41    0   1       130   204    0        0      172      0      1.4      2   \n",
              "3   56    1   1       120   236    0        1      178      0      0.8      2   \n",
              "4   57    0   0       120   354    0        1      163      1      0.6      2   \n",
              "\n",
              "   ca  thal  target  \n",
              "0   0     1       1  \n",
              "1   0     2       1  \n",
              "2   0     2       1  \n",
              "3   0     2       1  \n",
              "4   0     2       1  "
            ],
            "text/html": [
              "\n",
              "  <div id=\"df-aad50762-93dc-4289-b9f6-db02bc80e398\">\n",
              "    <div class=\"colab-df-container\">\n",
              "      <div>\n",
              "<style scoped>\n",
              "    .dataframe tbody tr th:only-of-type {\n",
              "        vertical-align: middle;\n",
              "    }\n",
              "\n",
              "    .dataframe tbody tr th {\n",
              "        vertical-align: top;\n",
              "    }\n",
              "\n",
              "    .dataframe thead th {\n",
              "        text-align: right;\n",
              "    }\n",
              "</style>\n",
              "<table border=\"1\" class=\"dataframe\">\n",
              "  <thead>\n",
              "    <tr style=\"text-align: right;\">\n",
              "      <th></th>\n",
              "      <th>age</th>\n",
              "      <th>sex</th>\n",
              "      <th>cp</th>\n",
              "      <th>trestbps</th>\n",
              "      <th>chol</th>\n",
              "      <th>fbs</th>\n",
              "      <th>restecg</th>\n",
              "      <th>thalach</th>\n",
              "      <th>exang</th>\n",
              "      <th>oldpeak</th>\n",
              "      <th>slope</th>\n",
              "      <th>ca</th>\n",
              "      <th>thal</th>\n",
              "      <th>target</th>\n",
              "    </tr>\n",
              "  </thead>\n",
              "  <tbody>\n",
              "    <tr>\n",
              "      <th>0</th>\n",
              "      <td>63</td>\n",
              "      <td>1</td>\n",
              "      <td>3</td>\n",
              "      <td>145</td>\n",
              "      <td>233</td>\n",
              "      <td>1</td>\n",
              "      <td>0</td>\n",
              "      <td>150</td>\n",
              "      <td>0</td>\n",
              "      <td>2.3</td>\n",
              "      <td>0</td>\n",
              "      <td>0</td>\n",
              "      <td>1</td>\n",
              "      <td>1</td>\n",
              "    </tr>\n",
              "    <tr>\n",
              "      <th>1</th>\n",
              "      <td>37</td>\n",
              "      <td>1</td>\n",
              "      <td>2</td>\n",
              "      <td>130</td>\n",
              "      <td>250</td>\n",
              "      <td>0</td>\n",
              "      <td>1</td>\n",
              "      <td>187</td>\n",
              "      <td>0</td>\n",
              "      <td>3.5</td>\n",
              "      <td>0</td>\n",
              "      <td>0</td>\n",
              "      <td>2</td>\n",
              "      <td>1</td>\n",
              "    </tr>\n",
              "    <tr>\n",
              "      <th>2</th>\n",
              "      <td>41</td>\n",
              "      <td>0</td>\n",
              "      <td>1</td>\n",
              "      <td>130</td>\n",
              "      <td>204</td>\n",
              "      <td>0</td>\n",
              "      <td>0</td>\n",
              "      <td>172</td>\n",
              "      <td>0</td>\n",
              "      <td>1.4</td>\n",
              "      <td>2</td>\n",
              "      <td>0</td>\n",
              "      <td>2</td>\n",
              "      <td>1</td>\n",
              "    </tr>\n",
              "    <tr>\n",
              "      <th>3</th>\n",
              "      <td>56</td>\n",
              "      <td>1</td>\n",
              "      <td>1</td>\n",
              "      <td>120</td>\n",
              "      <td>236</td>\n",
              "      <td>0</td>\n",
              "      <td>1</td>\n",
              "      <td>178</td>\n",
              "      <td>0</td>\n",
              "      <td>0.8</td>\n",
              "      <td>2</td>\n",
              "      <td>0</td>\n",
              "      <td>2</td>\n",
              "      <td>1</td>\n",
              "    </tr>\n",
              "    <tr>\n",
              "      <th>4</th>\n",
              "      <td>57</td>\n",
              "      <td>0</td>\n",
              "      <td>0</td>\n",
              "      <td>120</td>\n",
              "      <td>354</td>\n",
              "      <td>0</td>\n",
              "      <td>1</td>\n",
              "      <td>163</td>\n",
              "      <td>1</td>\n",
              "      <td>0.6</td>\n",
              "      <td>2</td>\n",
              "      <td>0</td>\n",
              "      <td>2</td>\n",
              "      <td>1</td>\n",
              "    </tr>\n",
              "  </tbody>\n",
              "</table>\n",
              "</div>\n",
              "      <button class=\"colab-df-convert\" onclick=\"convertToInteractive('df-aad50762-93dc-4289-b9f6-db02bc80e398')\"\n",
              "              title=\"Convert this dataframe to an interactive table.\"\n",
              "              style=\"display:none;\">\n",
              "        \n",
              "  <svg xmlns=\"http://www.w3.org/2000/svg\" height=\"24px\"viewBox=\"0 0 24 24\"\n",
              "       width=\"24px\">\n",
              "    <path d=\"M0 0h24v24H0V0z\" fill=\"none\"/>\n",
              "    <path d=\"M18.56 5.44l.94 2.06.94-2.06 2.06-.94-2.06-.94-.94-2.06-.94 2.06-2.06.94zm-11 1L8.5 8.5l.94-2.06 2.06-.94-2.06-.94L8.5 2.5l-.94 2.06-2.06.94zm10 10l.94 2.06.94-2.06 2.06-.94-2.06-.94-.94-2.06-.94 2.06-2.06.94z\"/><path d=\"M17.41 7.96l-1.37-1.37c-.4-.4-.92-.59-1.43-.59-.52 0-1.04.2-1.43.59L10.3 9.45l-7.72 7.72c-.78.78-.78 2.05 0 2.83L4 21.41c.39.39.9.59 1.41.59.51 0 1.02-.2 1.41-.59l7.78-7.78 2.81-2.81c.8-.78.8-2.07 0-2.86zM5.41 20L4 18.59l7.72-7.72 1.47 1.35L5.41 20z\"/>\n",
              "  </svg>\n",
              "      </button>\n",
              "      \n",
              "  <style>\n",
              "    .colab-df-container {\n",
              "      display:flex;\n",
              "      flex-wrap:wrap;\n",
              "      gap: 12px;\n",
              "    }\n",
              "\n",
              "    .colab-df-convert {\n",
              "      background-color: #E8F0FE;\n",
              "      border: none;\n",
              "      border-radius: 50%;\n",
              "      cursor: pointer;\n",
              "      display: none;\n",
              "      fill: #1967D2;\n",
              "      height: 32px;\n",
              "      padding: 0 0 0 0;\n",
              "      width: 32px;\n",
              "    }\n",
              "\n",
              "    .colab-df-convert:hover {\n",
              "      background-color: #E2EBFA;\n",
              "      box-shadow: 0px 1px 2px rgba(60, 64, 67, 0.3), 0px 1px 3px 1px rgba(60, 64, 67, 0.15);\n",
              "      fill: #174EA6;\n",
              "    }\n",
              "\n",
              "    [theme=dark] .colab-df-convert {\n",
              "      background-color: #3B4455;\n",
              "      fill: #D2E3FC;\n",
              "    }\n",
              "\n",
              "    [theme=dark] .colab-df-convert:hover {\n",
              "      background-color: #434B5C;\n",
              "      box-shadow: 0px 1px 3px 1px rgba(0, 0, 0, 0.15);\n",
              "      filter: drop-shadow(0px 1px 2px rgba(0, 0, 0, 0.3));\n",
              "      fill: #FFFFFF;\n",
              "    }\n",
              "  </style>\n",
              "\n",
              "      <script>\n",
              "        const buttonEl =\n",
              "          document.querySelector('#df-aad50762-93dc-4289-b9f6-db02bc80e398 button.colab-df-convert');\n",
              "        buttonEl.style.display =\n",
              "          google.colab.kernel.accessAllowed ? 'block' : 'none';\n",
              "\n",
              "        async function convertToInteractive(key) {\n",
              "          const element = document.querySelector('#df-aad50762-93dc-4289-b9f6-db02bc80e398');\n",
              "          const dataTable =\n",
              "            await google.colab.kernel.invokeFunction('convertToInteractive',\n",
              "                                                     [key], {});\n",
              "          if (!dataTable) return;\n",
              "\n",
              "          const docLinkHtml = 'Like what you see? Visit the ' +\n",
              "            '<a target=\"_blank\" href=https://colab.research.google.com/notebooks/data_table.ipynb>data table notebook</a>'\n",
              "            + ' to learn more about interactive tables.';\n",
              "          element.innerHTML = '';\n",
              "          dataTable['output_type'] = 'display_data';\n",
              "          await google.colab.output.renderOutput(dataTable, element);\n",
              "          const docLink = document.createElement('div');\n",
              "          docLink.innerHTML = docLinkHtml;\n",
              "          element.appendChild(docLink);\n",
              "        }\n",
              "      </script>\n",
              "    </div>\n",
              "  </div>\n",
              "  "
            ]
          },
          "metadata": {},
          "execution_count": 324
        }
      ]
    },
    {
      "cell_type": "code",
      "source": [
        "category = heart_dataset['target']\n",
        "labelencoder = LabelEncoder()\n",
        "category2 = labelencoder.fit_transform(category)\n",
        "target = category2\n",
        "target = target.astype(int)\n",
        "heart_dataset.drop(heart_dataset.columns[len(heart_dataset.columns)-1], axis=1, inplace=True)\n",
        "Numbers = heart_dataset\n",
        "data_scaled = StandardScaler().fit_transform(Numbers)"
      ],
      "metadata": {
        "id": "uD9Bj1dPy_i6"
      },
      "execution_count": 325,
      "outputs": []
    },
    {
      "cell_type": "code",
      "source": [
        "def RunKNN(new):\n",
        "    X_train, X_test, y_train, y_test = train_test_split(data_scaled, target, random_state=5)\n",
        "    knn = KNeighborsClassifier(n_neighbors=new)\n",
        "    knn.fit(X_train, y_train)\n",
        "    return knn.score(X_test, y_test)"
      ],
      "metadata": {
        "id": "hXiI9Gi-1wK5"
      },
      "execution_count": 377,
      "outputs": []
    },
    {
      "cell_type": "code",
      "source": [
        "RunKNN(7)"
      ],
      "metadata": {
        "colab": {
          "base_uri": "https://localhost:8080/"
        },
        "id": "-iKYzWfB1whG",
        "outputId": "2500218f-3c8b-4bcd-d04c-8749d0c3513a"
      },
      "execution_count": 378,
      "outputs": [
        {
          "output_type": "execute_result",
          "data": {
            "text/plain": [
              "0.9078947368421053"
            ]
          },
          "metadata": {},
          "execution_count": 378
        }
      ]
    },
    {
      "cell_type": "markdown",
      "source": [
        "P2 Question 2"
      ],
      "metadata": {
        "id": "V42-oDfr2Uyf"
      }
    },
    {
      "cell_type": "code",
      "source": [
        "heart_dataset = pd.read_csv('/content/drive/My Drive/CS480A - Machine Learning/heart.csv')\n",
        "category = heart_dataset['target']\n",
        "labelencoder = LabelEncoder()\n",
        "category2 = labelencoder.fit_transform(category)\n",
        "target = category2\n",
        "target = target.astype(int)\n",
        "heart_dataset.drop(heart_dataset.columns[len(heart_dataset.columns)-1], axis=1, inplace=True)\n",
        "#heart_dataset.head()\n",
        "Numbers = heart_dataset\n",
        "data_scaled = StandardScaler().fit_transform(Numbers)"
      ],
      "metadata": {
        "id": "oOXP28ew1wp1"
      },
      "execution_count": 402,
      "outputs": []
    },
    {
      "cell_type": "code",
      "source": [
        "Xtrain, Xtest, ytrain, ytest = train_test_split(data_scaled, target, random_state=5)"
      ],
      "metadata": {
        "id": "_61ehaUy1wyR"
      },
      "execution_count": 403,
      "outputs": []
    },
    {
      "cell_type": "code",
      "source": [
        "def buildAndTrainModel(numEpochs) :\n",
        "    global model, Xtrain, Ytrain, xtest, ytest\n",
        "    model = Sequential()\n",
        "    model.add(Dense(10, input_dim=13))\n",
        "    model.add(Activation('relu'))\n",
        "    model.add(Dense(2))\n",
        "    model.add(Activation('relu'))\n",
        "    sgd = SGD(lr=0.1) #TODO CHANGE TO LEARNING TARE\n",
        "    model.compile(loss='mean_squared_error', optimizer=sgd,metrics = [\"accuracy\"])\n",
        "    model.fit(Xtrain, ytrain, batch_size=1, epochs=numEpochs)"
      ],
      "metadata": {
        "id": "Or1wkv7Z44eO"
      },
      "execution_count": 404,
      "outputs": []
    },
    {
      "cell_type": "code",
      "source": [
        "buildAndTrainModel(50)"
      ],
      "metadata": {
        "colab": {
          "base_uri": "https://localhost:8080/"
        },
        "id": "hQ_HpFVR44ug",
        "outputId": "168ef809-530d-4154-935a-efcbe3ba6c1f"
      },
      "execution_count": 405,
      "outputs": [
        {
          "output_type": "stream",
          "name": "stdout",
          "text": [
            "Epoch 1/50\n"
          ]
        },
        {
          "output_type": "stream",
          "name": "stderr",
          "text": [
            "/usr/local/lib/python3.7/dist-packages/keras/optimizer_v2/gradient_descent.py:102: UserWarning: The `lr` argument is deprecated, use `learning_rate` instead.\n",
            "  super(SGD, self).__init__(name, **kwargs)\n"
          ]
        },
        {
          "output_type": "stream",
          "name": "stdout",
          "text": [
            "227/227 [==============================] - 1s 2ms/step - loss: 0.4161 - accuracy: 0.4758\n",
            "Epoch 2/50\n",
            "227/227 [==============================] - 0s 2ms/step - loss: 0.1738 - accuracy: 0.5859\n",
            "Epoch 3/50\n",
            "227/227 [==============================] - 0s 2ms/step - loss: 0.1450 - accuracy: 0.6256\n",
            "Epoch 4/50\n",
            "227/227 [==============================] - 0s 2ms/step - loss: 0.1297 - accuracy: 0.6256\n",
            "Epoch 5/50\n",
            "227/227 [==============================] - 0s 2ms/step - loss: 0.1249 - accuracy: 0.6432\n",
            "Epoch 6/50\n",
            "227/227 [==============================] - 0s 2ms/step - loss: 0.1135 - accuracy: 0.5859\n",
            "Epoch 7/50\n",
            "227/227 [==============================] - 0s 2ms/step - loss: 0.1138 - accuracy: 0.6079\n",
            "Epoch 8/50\n",
            "227/227 [==============================] - 0s 1ms/step - loss: 0.1097 - accuracy: 0.6300\n",
            "Epoch 9/50\n",
            "227/227 [==============================] - 0s 2ms/step - loss: 0.1065 - accuracy: 0.6035\n",
            "Epoch 10/50\n",
            "227/227 [==============================] - 0s 1ms/step - loss: 0.1030 - accuracy: 0.6740\n",
            "Epoch 11/50\n",
            "227/227 [==============================] - 0s 1ms/step - loss: 0.0945 - accuracy: 0.6211\n",
            "Epoch 12/50\n",
            "227/227 [==============================] - 0s 2ms/step - loss: 0.0918 - accuracy: 0.6432\n",
            "Epoch 13/50\n",
            "227/227 [==============================] - 0s 2ms/step - loss: 0.0953 - accuracy: 0.7401\n",
            "Epoch 14/50\n",
            "227/227 [==============================] - 0s 2ms/step - loss: 0.0879 - accuracy: 0.7137\n",
            "Epoch 15/50\n",
            "227/227 [==============================] - 0s 2ms/step - loss: 0.0841 - accuracy: 0.6211\n",
            "Epoch 16/50\n",
            "227/227 [==============================] - 0s 2ms/step - loss: 0.0760 - accuracy: 0.6256\n",
            "Epoch 17/50\n",
            "227/227 [==============================] - 0s 1ms/step - loss: 0.0901 - accuracy: 0.6476\n",
            "Epoch 18/50\n",
            "227/227 [==============================] - 0s 2ms/step - loss: 0.0845 - accuracy: 0.6696\n",
            "Epoch 19/50\n",
            "227/227 [==============================] - 0s 1ms/step - loss: 0.0891 - accuracy: 0.6476\n",
            "Epoch 20/50\n",
            "227/227 [==============================] - 0s 2ms/step - loss: 0.0886 - accuracy: 0.6564\n",
            "Epoch 21/50\n",
            "227/227 [==============================] - 0s 2ms/step - loss: 0.0759 - accuracy: 0.6696\n",
            "Epoch 22/50\n",
            "227/227 [==============================] - 0s 2ms/step - loss: 0.0735 - accuracy: 0.6564\n",
            "Epoch 23/50\n",
            "227/227 [==============================] - 0s 1ms/step - loss: 0.0732 - accuracy: 0.6828\n",
            "Epoch 24/50\n",
            "227/227 [==============================] - 0s 2ms/step - loss: 0.0801 - accuracy: 0.6300\n",
            "Epoch 25/50\n",
            "227/227 [==============================] - 0s 1ms/step - loss: 0.0775 - accuracy: 0.5859\n",
            "Epoch 26/50\n",
            "227/227 [==============================] - 0s 1ms/step - loss: 0.0687 - accuracy: 0.6960\n",
            "Epoch 27/50\n",
            "227/227 [==============================] - 0s 1ms/step - loss: 0.0704 - accuracy: 0.7225\n",
            "Epoch 28/50\n",
            "227/227 [==============================] - 0s 1ms/step - loss: 0.0784 - accuracy: 0.6344\n",
            "Epoch 29/50\n",
            "227/227 [==============================] - 0s 1ms/step - loss: 0.0698 - accuracy: 0.6828\n",
            "Epoch 30/50\n",
            "227/227 [==============================] - 0s 2ms/step - loss: 0.0738 - accuracy: 0.7269\n",
            "Epoch 31/50\n",
            "227/227 [==============================] - 0s 1ms/step - loss: 0.0666 - accuracy: 0.7445\n",
            "Epoch 32/50\n",
            "227/227 [==============================] - 0s 2ms/step - loss: 0.0666 - accuracy: 0.6696\n",
            "Epoch 33/50\n",
            "227/227 [==============================] - 0s 2ms/step - loss: 0.0619 - accuracy: 0.7093\n",
            "Epoch 34/50\n",
            "227/227 [==============================] - 0s 1ms/step - loss: 0.0677 - accuracy: 0.6652\n",
            "Epoch 35/50\n",
            "227/227 [==============================] - 0s 2ms/step - loss: 0.0651 - accuracy: 0.6520\n",
            "Epoch 36/50\n",
            "227/227 [==============================] - 0s 1ms/step - loss: 0.0680 - accuracy: 0.6828\n",
            "Epoch 37/50\n",
            "227/227 [==============================] - 0s 2ms/step - loss: 0.0610 - accuracy: 0.6696\n",
            "Epoch 38/50\n",
            "227/227 [==============================] - 0s 2ms/step - loss: 0.0604 - accuracy: 0.6564\n",
            "Epoch 39/50\n",
            "227/227 [==============================] - 0s 1ms/step - loss: 0.0643 - accuracy: 0.7048\n",
            "Epoch 40/50\n",
            "227/227 [==============================] - 0s 1ms/step - loss: 0.0595 - accuracy: 0.6344\n",
            "Epoch 41/50\n",
            "227/227 [==============================] - 0s 2ms/step - loss: 0.0622 - accuracy: 0.6476\n",
            "Epoch 42/50\n",
            "227/227 [==============================] - 0s 1ms/step - loss: 0.0752 - accuracy: 0.6211\n",
            "Epoch 43/50\n",
            "227/227 [==============================] - 0s 2ms/step - loss: 0.0739 - accuracy: 0.7709\n",
            "Epoch 44/50\n",
            "227/227 [==============================] - 0s 2ms/step - loss: 0.0649 - accuracy: 0.6872\n",
            "Epoch 45/50\n",
            "227/227 [==============================] - 0s 2ms/step - loss: 0.0624 - accuracy: 0.6344\n",
            "Epoch 46/50\n",
            "227/227 [==============================] - 0s 2ms/step - loss: 0.0585 - accuracy: 0.6300\n",
            "Epoch 47/50\n",
            "227/227 [==============================] - 0s 1ms/step - loss: 0.0591 - accuracy: 0.6696\n",
            "Epoch 48/50\n",
            "227/227 [==============================] - 0s 2ms/step - loss: 0.0670 - accuracy: 0.6432\n",
            "Epoch 49/50\n",
            "227/227 [==============================] - 0s 2ms/step - loss: 0.0644 - accuracy: 0.7093\n",
            "Epoch 50/50\n",
            "227/227 [==============================] - 0s 2ms/step - loss: 0.0599 - accuracy: 0.7093\n"
          ]
        }
      ]
    },
    {
      "cell_type": "code",
      "source": [
        "def posOfMaxOfTwo(n1, n2) :\n",
        "  if (n1 >= n2) : \n",
        "    return 0\n",
        "  else:\n",
        "    return 1\n",
        "\n",
        "ytest = to_categorical(ytest)"
      ],
      "metadata": {
        "id": "WIBxTADQ5dR8"
      },
      "execution_count": 406,
      "outputs": []
    },
    {
      "cell_type": "code",
      "source": [
        "def predictResults () :\n",
        "    sum=0\n",
        "    for i in range(len(Xtest)) :\n",
        "        results = model.predict(np.array([Xtest[i]]))\n",
        "        result = posOfMaxOfTwo(results[0][0], results[0][1])\n",
        "        if (result == posOfMaxOfTwo(ytest[i][0], ytest[i][1])):\n",
        "            sum += 1\n",
        "    print(\"Accuracy:\",(sum/len(ytest)) * 100)"
      ],
      "metadata": {
        "id": "kEdN5uya5erp"
      },
      "execution_count": 407,
      "outputs": []
    },
    {
      "cell_type": "code",
      "source": [
        "predictResults()"
      ],
      "metadata": {
        "colab": {
          "base_uri": "https://localhost:8080/"
        },
        "id": "xV1-ew9O449d",
        "outputId": "fc802cdf-7a0f-4021-9585-d956820734b1"
      },
      "execution_count": 408,
      "outputs": [
        {
          "output_type": "stream",
          "name": "stdout",
          "text": [
            "Accuracy: 84.21052631578947\n"
          ]
        }
      ]
    },
    {
      "cell_type": "markdown",
      "source": [
        "P2 Question 3"
      ],
      "metadata": {
        "id": "2pt9ubFc8w2d"
      }
    },
    {
      "cell_type": "code",
      "source": [
        "heart_dataset = pd.read_csv('/content/drive/My Drive/CS480A - Machine Learning/heart.csv')\n",
        "category = heart_dataset['target']\n",
        "labelencoder = LabelEncoder()\n",
        "category2 = labelencoder.fit_transform(category)\n",
        "target = category2\n",
        "#target = target.astype(int)\n",
        "target = to_categorical(target)\n",
        "heart_dataset.drop(['sex', 'fbs',\t'restecg',\t'exang',\t'slope', 'ca'], axis=1, inplace=True)\n",
        "heart_dataset.drop(heart_dataset.columns[len(heart_dataset.columns)-1], axis=1, inplace=True)\n",
        "#heart_dataset.head()\n",
        "Numbers = heart_dataset\n",
        "data_scaled = StandardScaler().fit_transform(Numbers)"
      ],
      "metadata": {
        "id": "QJ65vyKr8v-b"
      },
      "execution_count": 409,
      "outputs": []
    },
    {
      "cell_type": "code",
      "source": [
        "Xtrain, Xtest, ytrain, ytest = train_test_split(data_scaled, target, random_state=5)"
      ],
      "metadata": {
        "id": "4WNvF8FL85a9"
      },
      "execution_count": 410,
      "outputs": []
    },
    {
      "cell_type": "code",
      "source": [
        "def buildAndTrainModel(numEpochs) :\n",
        "    global model, Xtrain, Ytrain, xtest, ytest\n",
        "    model = Sequential()\n",
        "    model.add(Dense(10, input_dim=7))\n",
        "    model.add(Activation('relu'))\n",
        "    model.add(Dense(2))\n",
        "    model.add(Activation('relu'))\n",
        "    sgd = SGD(lr=0.1) #TODO CHANGE TO LEARNING TARE\n",
        "    model.compile(loss='mean_squared_error', optimizer=sgd,metrics = [\"accuracy\"])\n",
        "    model.fit(Xtrain, ytrain, batch_size=1, epochs=numEpochs)"
      ],
      "metadata": {
        "id": "GtrgHv_385lr"
      },
      "execution_count": 411,
      "outputs": []
    },
    {
      "cell_type": "code",
      "source": [
        "buildAndTrainModel(50)"
      ],
      "metadata": {
        "colab": {
          "base_uri": "https://localhost:8080/"
        },
        "id": "W2Rl7Dcq85ta",
        "outputId": "417d9bf2-2168-431b-c245-d12d4882761d"
      },
      "execution_count": 412,
      "outputs": [
        {
          "output_type": "stream",
          "name": "stdout",
          "text": [
            "Epoch 1/50\n"
          ]
        },
        {
          "output_type": "stream",
          "name": "stderr",
          "text": [
            "/usr/local/lib/python3.7/dist-packages/keras/optimizer_v2/gradient_descent.py:102: UserWarning: The `lr` argument is deprecated, use `learning_rate` instead.\n",
            "  super(SGD, self).__init__(name, **kwargs)\n"
          ]
        },
        {
          "output_type": "stream",
          "name": "stdout",
          "text": [
            "227/227 [==============================] - 1s 2ms/step - loss: 0.3157 - accuracy: 0.6828\n",
            "Epoch 2/50\n",
            "227/227 [==============================] - 0s 2ms/step - loss: 0.2106 - accuracy: 0.7709\n",
            "Epoch 3/50\n",
            "227/227 [==============================] - 0s 2ms/step - loss: 0.1930 - accuracy: 0.7709\n",
            "Epoch 4/50\n",
            "227/227 [==============================] - 0s 2ms/step - loss: 0.1795 - accuracy: 0.7621\n",
            "Epoch 5/50\n",
            "227/227 [==============================] - 0s 2ms/step - loss: 0.1806 - accuracy: 0.7665\n",
            "Epoch 6/50\n",
            "227/227 [==============================] - 0s 2ms/step - loss: 0.1755 - accuracy: 0.7665\n",
            "Epoch 7/50\n",
            "227/227 [==============================] - 0s 2ms/step - loss: 0.1716 - accuracy: 0.7533\n",
            "Epoch 8/50\n",
            "227/227 [==============================] - 0s 1ms/step - loss: 0.1567 - accuracy: 0.7974\n",
            "Epoch 9/50\n",
            "227/227 [==============================] - 0s 2ms/step - loss: 0.1618 - accuracy: 0.8194\n",
            "Epoch 10/50\n",
            "227/227 [==============================] - 0s 2ms/step - loss: 0.1662 - accuracy: 0.7841\n",
            "Epoch 11/50\n",
            "227/227 [==============================] - 0s 2ms/step - loss: 0.1684 - accuracy: 0.7753\n",
            "Epoch 12/50\n",
            "227/227 [==============================] - 0s 2ms/step - loss: 0.1622 - accuracy: 0.7709\n",
            "Epoch 13/50\n",
            "227/227 [==============================] - 0s 2ms/step - loss: 0.1608 - accuracy: 0.7621\n",
            "Epoch 14/50\n",
            "227/227 [==============================] - 0s 2ms/step - loss: 0.1570 - accuracy: 0.7930\n",
            "Epoch 15/50\n",
            "227/227 [==============================] - 0s 1ms/step - loss: 0.1543 - accuracy: 0.7930\n",
            "Epoch 16/50\n",
            "227/227 [==============================] - 0s 2ms/step - loss: 0.1474 - accuracy: 0.7974\n",
            "Epoch 17/50\n",
            "227/227 [==============================] - 0s 2ms/step - loss: 0.1508 - accuracy: 0.8062\n",
            "Epoch 18/50\n",
            "227/227 [==============================] - 0s 2ms/step - loss: 0.1540 - accuracy: 0.8062\n",
            "Epoch 19/50\n",
            "227/227 [==============================] - 0s 1ms/step - loss: 0.1607 - accuracy: 0.7885\n",
            "Epoch 20/50\n",
            "227/227 [==============================] - 0s 1ms/step - loss: 0.1587 - accuracy: 0.8150\n",
            "Epoch 21/50\n",
            "227/227 [==============================] - 0s 2ms/step - loss: 0.1473 - accuracy: 0.8150\n",
            "Epoch 22/50\n",
            "227/227 [==============================] - 0s 1ms/step - loss: 0.1494 - accuracy: 0.8018\n",
            "Epoch 23/50\n",
            "227/227 [==============================] - 0s 2ms/step - loss: 0.1606 - accuracy: 0.7577\n",
            "Epoch 24/50\n",
            "227/227 [==============================] - 0s 2ms/step - loss: 0.1611 - accuracy: 0.7841\n",
            "Epoch 25/50\n",
            "227/227 [==============================] - 0s 2ms/step - loss: 0.1510 - accuracy: 0.8106\n",
            "Epoch 26/50\n",
            "227/227 [==============================] - 0s 2ms/step - loss: 0.1586 - accuracy: 0.7665\n",
            "Epoch 27/50\n",
            "227/227 [==============================] - 0s 2ms/step - loss: 0.1558 - accuracy: 0.8062\n",
            "Epoch 28/50\n",
            "227/227 [==============================] - 0s 1ms/step - loss: 0.1426 - accuracy: 0.8282\n",
            "Epoch 29/50\n",
            "227/227 [==============================] - 0s 2ms/step - loss: 0.1495 - accuracy: 0.8282\n",
            "Epoch 30/50\n",
            "227/227 [==============================] - 0s 1ms/step - loss: 0.1498 - accuracy: 0.8062\n",
            "Epoch 31/50\n",
            "227/227 [==============================] - 0s 1ms/step - loss: 0.1483 - accuracy: 0.8018\n",
            "Epoch 32/50\n",
            "227/227 [==============================] - 0s 2ms/step - loss: 0.1516 - accuracy: 0.7841\n",
            "Epoch 33/50\n",
            "227/227 [==============================] - 0s 1ms/step - loss: 0.1385 - accuracy: 0.8370\n",
            "Epoch 34/50\n",
            "227/227 [==============================] - 0s 1ms/step - loss: 0.1549 - accuracy: 0.8106\n",
            "Epoch 35/50\n",
            "227/227 [==============================] - 0s 2ms/step - loss: 0.1465 - accuracy: 0.7930\n",
            "Epoch 36/50\n",
            "227/227 [==============================] - 0s 2ms/step - loss: 0.1368 - accuracy: 0.8238\n",
            "Epoch 37/50\n",
            "227/227 [==============================] - 0s 1ms/step - loss: 0.1555 - accuracy: 0.8106\n",
            "Epoch 38/50\n",
            "227/227 [==============================] - 0s 2ms/step - loss: 0.1405 - accuracy: 0.8326\n",
            "Epoch 39/50\n",
            "227/227 [==============================] - 0s 1ms/step - loss: 0.1491 - accuracy: 0.7841\n",
            "Epoch 40/50\n",
            "227/227 [==============================] - 0s 2ms/step - loss: 0.1368 - accuracy: 0.8238\n",
            "Epoch 41/50\n",
            "227/227 [==============================] - 0s 2ms/step - loss: 0.1480 - accuracy: 0.8194\n",
            "Epoch 42/50\n",
            "227/227 [==============================] - 0s 2ms/step - loss: 0.1436 - accuracy: 0.8018\n",
            "Epoch 43/50\n",
            "227/227 [==============================] - 0s 2ms/step - loss: 0.1386 - accuracy: 0.8282\n",
            "Epoch 44/50\n",
            "227/227 [==============================] - 0s 2ms/step - loss: 0.1413 - accuracy: 0.7797\n",
            "Epoch 45/50\n",
            "227/227 [==============================] - 0s 1ms/step - loss: 0.1368 - accuracy: 0.8150\n",
            "Epoch 46/50\n",
            "227/227 [==============================] - 0s 2ms/step - loss: 0.1427 - accuracy: 0.8062\n",
            "Epoch 47/50\n",
            "227/227 [==============================] - 0s 1ms/step - loss: 0.1428 - accuracy: 0.8238\n",
            "Epoch 48/50\n",
            "227/227 [==============================] - 0s 2ms/step - loss: 0.1360 - accuracy: 0.8194\n",
            "Epoch 49/50\n",
            "227/227 [==============================] - 0s 2ms/step - loss: 0.1650 - accuracy: 0.8018\n",
            "Epoch 50/50\n",
            "227/227 [==============================] - 0s 1ms/step - loss: 0.1490 - accuracy: 0.8062\n"
          ]
        }
      ]
    },
    {
      "cell_type": "code",
      "source": [
        "def posOfMaxOfTwo(n1, n2) :\n",
        "  if (n1 >= n2) :\n",
        "    return 0\n",
        "  else:\n",
        "    return 1"
      ],
      "metadata": {
        "id": "xXJ0N6LaBLiQ"
      },
      "execution_count": 413,
      "outputs": []
    },
    {
      "cell_type": "code",
      "source": [
        "#ytest = to_categorical(ytest)"
      ],
      "metadata": {
        "id": "3zf44OVhBjY1"
      },
      "execution_count": 414,
      "outputs": []
    },
    {
      "cell_type": "code",
      "source": [
        "def predictResults () :\n",
        "    sum=0\n",
        "    for i in range(len(Xtest)) :\n",
        "        results = model.predict(np.array([Xtest[i]]))\n",
        "        result = posOfMaxOfTwo(results[0][0], results[0][1])\n",
        "        if (result == posOfMaxOfTwo(ytest[i][0], ytest[i][1])):\n",
        "            sum += 1\n",
        "    print(\"Accuracy:\",(sum/len(ytest)) * 100)"
      ],
      "metadata": {
        "id": "BgU4vM1EBMv0"
      },
      "execution_count": 415,
      "outputs": []
    },
    {
      "cell_type": "code",
      "source": [
        "predictResults()"
      ],
      "metadata": {
        "colab": {
          "base_uri": "https://localhost:8080/"
        },
        "id": "vGnecoDrAehm",
        "outputId": "d5604c70-cb14-44a9-9377-0613ba15f2d3"
      },
      "execution_count": 416,
      "outputs": [
        {
          "output_type": "stream",
          "name": "stdout",
          "text": [
            "Accuracy: 86.8421052631579\n"
          ]
        }
      ]
    },
    {
      "cell_type": "markdown",
      "source": [
        "## Part 4: Natural Language Processing "
      ],
      "metadata": {
        "id": "25xt6PWpo7Xp"
      }
    },
    {
      "cell_type": "markdown",
      "source": [
        "I think the ML generated passages are as follows.\n",
        "\n",
        "*   Prompt 1: E, C\n",
        "*   Prompt 2: B, I\n",
        "*   Prompt 3: A\n",
        "*   Prompt 4: B, C\n",
        "*   Prompt 5: A, I\n",
        "*   Prompt 6: D\n",
        "*   Prompt 7: I\n",
        "*   Prompt 8: G, H, I\n",
        "*   Prompt 9: H, C\n",
        "*   Prompt 10: B, F"
      ],
      "metadata": {
        "id": "VQwxwFl4pCeo"
      }
    }
  ]
}